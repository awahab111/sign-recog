{
 "cells": [
  {
   "cell_type": "code",
   "execution_count": 50,
   "metadata": {},
   "outputs": [
    {
     "name": "stdout",
     "output_type": "stream",
     "text": [
      "['20240904_083201.jpg', '20240904_083217.jpg', '20240904_083233.jpg', '20240904_083248.jpg', '20240904_083305.jpg', '20240904_083320.jpg', '20240904_083334.jpg', '20240904_083350.jpg', '20240904_083411.jpg', '20240904_083435.jpg', '20240904_091404.jpg', '20240904_091434.jpg', '20240904_091442.jpg', '20240904_091451.jpg', '20240904_091501.jpg', '20240904_091509.jpg']\n"
     ]
    }
   ],
   "source": [
    "import cv2 as cv \n",
    "import numpy as np\n",
    "import os\n",
    "import matplotlib.pyplot as plt\n",
    "import random\n",
    "import shutil\n",
    "\n",
    "%matplotlib inline\n",
    "\n",
    "# Define the directories\n",
    "current_dir = os.getcwd()\n",
    "parent_dir = os.path.dirname(current_dir)\n",
    "\n",
    "data_dir = os.path.join(parent_dir, 'data', 'raw')\n",
    "output_dir = os.path.join(parent_dir, 'data', 'processed')\n",
    "\n",
    "train_dir = os.path.join(output_dir,  'train')\n",
    "test_dir = os.path.join(output_dir, 'test')\n",
    "os.makedirs(train_dir, exist_ok=True)\n",
    "os.makedirs(test_dir, exist_ok=True)\n",
    "\n",
    "files_list = os.listdir(data_dir)"
   ]
  },
  {
   "cell_type": "markdown",
   "metadata": {},
   "source": [
    "Read images and convert RGB, BINARY, DILATED\n"
   ]
  },
  {
   "cell_type": "code",
   "execution_count": 51,
   "metadata": {},
   "outputs": [
    {
     "name": "stdout",
     "output_type": "stream",
     "text": [
      "20240904_091509.jpg\n"
     ]
    }
   ],
   "source": [
    "rgb_images = []\n",
    "binary_images = []\n",
    "dilated_images = []\n",
    "print(files_list[-1])\n",
    "img = files_list[-1]\n",
    "# for img in files_list[0:1]:\n",
    "img_path = os.path.join(data_dir, img)\n",
    "image = cv.imread(img_path)\n",
    "image_gray = cv.cvtColor(image, cv.COLOR_BGR2GRAY)\n",
    "_, binary = cv.threshold(image_gray, 127, 255, cv.THRESH_BINARY_INV)\n",
    "# kernal = np.ones((5,5), np.uint8)\n",
    "dilated = cv.dilate(binary, None, iterations=2)\n",
    "rgb_images.append(image)\n",
    "binary_images.append(binary)\n",
    "dilated_images.append(dilated)"
   ]
  },
  {
   "cell_type": "code",
   "execution_count": 52,
   "metadata": {},
   "outputs": [
    {
     "data": {
      "text/plain": [
       "True"
      ]
     },
     "execution_count": 52,
     "metadata": {},
     "output_type": "execute_result"
    }
   ],
   "source": [
    "cv.imwrite('0 - RGB.jpg', rgb_images[0])\n",
    "cv.imwrite('1 - BINARY.jpg', binary_images[0])\n",
    "cv.imwrite('2 - DILATED.jpg', dilated_images[0])"
   ]
  },
  {
   "cell_type": "markdown",
   "metadata": {},
   "source": [
    "Contours"
   ]
  },
  {
   "cell_type": "code",
   "execution_count": 53,
   "metadata": {},
   "outputs": [
    {
     "data": {
      "text/plain": [
       "True"
      ]
     },
     "execution_count": 53,
     "metadata": {},
     "output_type": "execute_result"
    }
   ],
   "source": [
    "image = rgb_images[0].copy()\n",
    "contours , hierarchy = cv.findContours(dilated_images[0], cv.RETR_TREE, cv.CHAIN_APPROX_SIMPLE)\n",
    "cv.drawContours(image, contours, -1, (0,255,0), 3)\n",
    "cv.imwrite('3 - ALL CONTOURS.jpg', image)"
   ]
  },
  {
   "cell_type": "code",
   "execution_count": 54,
   "metadata": {},
   "outputs": [
    {
     "data": {
      "text/plain": [
       "True"
      ]
     },
     "execution_count": 54,
     "metadata": {},
     "output_type": "execute_result"
    }
   ],
   "source": [
    "image = rgb_images[0].copy()\n",
    "rectangles = []\n",
    "for contour in contours:\n",
    "    approx = cv.approxPolyDP(contour, 0.02 * cv.arcLength(contour, True), True)\n",
    "    if len(approx) == 4:\n",
    "        if cv.isContourConvex(approx):\n",
    "            cv.drawContours(image, [approx], 0, (0, 255, 0), 2)\n",
    "            rectangles.append(approx)\n",
    "\n",
    "cv.imwrite('4 - RECTANGLES.jpg', image)"
   ]
  },
  {
   "cell_type": "code",
   "execution_count": 55,
   "metadata": {},
   "outputs": [
    {
     "data": {
      "text/plain": [
       "True"
      ]
     },
     "execution_count": 55,
     "metadata": {},
     "output_type": "execute_result"
    }
   ],
   "source": [
    "# Max contour area\n",
    "max_area = 0\n",
    "max_contour = None\n",
    "for contour in rectangles:\n",
    "    area = cv.contourArea(contour)\n",
    "    if area > max_area:\n",
    "        max_area = area\n",
    "        max_contour = contour\n",
    "\n",
    "image = rgb_images[0].copy()\n",
    "cv.drawContours(image, [max_contour], 0, (0, 255, 0), 2)\n",
    "cv.imwrite('5 - MAX RECTANGLE.jpg', image)"
   ]
  },
  {
   "cell_type": "markdown",
   "metadata": {},
   "source": [
    "Warped"
   ]
  },
  {
   "cell_type": "code",
   "execution_count": 56,
   "metadata": {},
   "outputs": [
    {
     "data": {
      "text/plain": [
       "True"
      ]
     },
     "execution_count": 56,
     "metadata": {},
     "output_type": "execute_result"
    }
   ],
   "source": [
    "points = max_contour.reshape(4, 2)\n",
    "rect = np.zeros((4, 2), dtype = \"float32\")\n",
    "\n",
    "points_sum = points.sum(axis = 1)\n",
    "rect[0] = points[np.argmin(points_sum)] #tleft\n",
    "rect[2] = points[np.argmax(points_sum)] #tright\n",
    "\n",
    "points_diff = np.diff(points, axis = 1)\n",
    "rect[1] = points[np.argmin(points_diff)]#bright\n",
    "rect[3] = points[np.argmax(points_diff)]#bleft\n",
    "\n",
    "(tl, tr, br, bl) = rect\n",
    "\n",
    "widthA = np.sqrt(((br[0] - bl[0]) ** 2) + ((br[1] - bl[1]) ** 2))\n",
    "widthB = np.sqrt(((tr[0] - tl[0]) ** 2) + ((tr[1] - tl[1]) ** 2))\n",
    "\n",
    "maxWidth = max(int(widthA), int(widthB))\n",
    "\n",
    "heightA = np.sqrt(((tr[0] - br[0]) ** 2) + ((tr[1] - br[1]) ** 2))\n",
    "heightB = np.sqrt(((tl[0] - bl[0]) ** 2) + ((tl[1] - bl[1]) ** 2))\n",
    "\n",
    "maxHeight = max(int(heightA), int(heightB))\n",
    "\n",
    "destination = np.array([\n",
    "    [0, 0],\n",
    "    [maxWidth - 1, 0],\n",
    "    [maxWidth - 1, maxHeight - 1],\n",
    "    [0, maxHeight - 1]], dtype = \"float32\")\n",
    "M = cv.getPerspectiveTransform(rect, destination)\n",
    "image = rgb_images[0].copy()\n",
    "warped = cv.warpPerspective(image, M, (maxWidth, maxHeight))\n",
    "\n",
    "cv.imwrite('6 - WARPED.jpg', warped)"
   ]
  },
  {
   "cell_type": "code",
   "execution_count": 57,
   "metadata": {},
   "outputs": [
    {
     "data": {
      "text/plain": [
       "True"
      ]
     },
     "execution_count": 57,
     "metadata": {},
     "output_type": "execute_result"
    }
   ],
   "source": [
    "image = warped.copy()\n",
    "\n",
    "image_gray = cv.cvtColor(image, cv.COLOR_BGR2GRAY)\n",
    "_, binary = cv.threshold(image_gray, 127, 255, cv.THRESH_BINARY_INV)\n",
    "dilated = cv.dilate(binary, None, iterations=2)\n",
    "\n",
    "cv.imwrite('7 - BINARY.jpg', binary)\n",
    "cv.imwrite('8 - DILATED.jpg', dilated)"
   ]
  },
  {
   "cell_type": "code",
   "execution_count": 58,
   "metadata": {},
   "outputs": [
    {
     "data": {
      "text/plain": [
       "True"
      ]
     },
     "execution_count": 58,
     "metadata": {},
     "output_type": "execute_result"
    }
   ],
   "source": [
    "image = warped.copy()\n",
    "\n",
    "hor = np.array([np.ones(28)])\n",
    "ver = np.array(np.ones((28,1)))\n",
    "\n",
    "hor_eroded = cv.erode(dilated, hor, iterations=15)\n",
    "hor_dilated = cv.dilate(hor_eroded, hor, iterations=15)\n",
    "\n",
    "ver_eroded = cv.erode(dilated, ver, iterations=18)\n",
    "ver_dilated = cv.dilate(ver_eroded, ver, iterations=15)\n",
    "\n",
    "table = cv.add(hor_dilated, ver_dilated)\n",
    "\n",
    "cv.imwrite('9 - IMAGE TABLE.jpg', table)\n",
    "\n",
    "lines = cv.HoughLines(table, 1, (np.pi)/4/180, 2000)\n",
    "no_lines = cv.subtract(table, binary)\n",
    "\n",
    "blank = np.zeros_like(table)\n",
    "\n",
    "\n",
    "def extend_line(x1, y1, x2, y2, factor=1.5):\n",
    "    dx = x2 - x1\n",
    "    dy = y2 - y1\n",
    "    x1_new = int(x1 - factor * dx)\n",
    "    y1_new = int(y1 - factor * dy)\n",
    "    x2_new = int(x2 + factor * dx)\n",
    "    y2_new = int(y2 + factor * dy)\n",
    "    return x1_new, y1_new, x2_new, y2_new\n",
    "\n",
    "# Draw the lines on the original image\n",
    "if lines is not None:\n",
    "    for rho, theta in lines[:, 0]:\n",
    "        a = np.cos(theta)\n",
    "        b = np.sin(theta)\n",
    "        x0 = a * rho\n",
    "        y0 = b * rho\n",
    "        x1 = int(x0 + 1000 * (-b))\n",
    "        y1 = int(y0 + 1000 * (a))\n",
    "        x2 = int(x0 - 1000 * (-b))\n",
    "        y2 = int(y0 - 1000 * (a))\n",
    "        \n",
    "        # Extend the line\n",
    "        x1, y1, x2, y2 = extend_line(x1, y1, x2, y2, factor=50)\n",
    "        \n",
    "        cv.line(blank, (x1, y1), (x2, y2), (255, 255, 255), 10)\n",
    "\n",
    "no_lines = cv.subtract(binary, table)\n",
    "\n",
    "cv.imwrite('10 - NO LINES.jpg', no_lines)\n",
    "\n",
    "table = blank\n",
    "cv.imwrite('9 - TABLE.jpg', table)"
   ]
  },
  {
   "cell_type": "code",
   "execution_count": 59,
   "metadata": {},
   "outputs": [
    {
     "data": {
      "text/plain": [
       "True"
      ]
     },
     "execution_count": 59,
     "metadata": {},
     "output_type": "execute_result"
    }
   ],
   "source": [
    "image = warped.copy()\n",
    "contours , hierarchy = cv.findContours(table, cv.RETR_TREE, cv.CHAIN_APPROX_SIMPLE)\n",
    "cv.drawContours(image, contours, -1, (0,255,0), 3)\n",
    "cv.imwrite('10 - ALL CONTOURS.jpg', image)"
   ]
  },
  {
   "cell_type": "code",
   "execution_count": 60,
   "metadata": {},
   "outputs": [
    {
     "data": {
      "text/plain": [
       "True"
      ]
     },
     "execution_count": 60,
     "metadata": {},
     "output_type": "execute_result"
    }
   ],
   "source": [
    "image = warped.copy()\n",
    "rectangles = []\n",
    "for contour in contours:\n",
    "    approx = cv.approxPolyDP(contour, 0.02 * cv.arcLength(contour, True), True)\n",
    "    if len(approx) == 4:\n",
    "        if cv.isContourConvex(approx):\n",
    "            cv.drawContours(image, [approx], 0, (0, 255, 0), 2)\n",
    "            rectangles.append(approx)\n",
    "\n",
    "cv.imwrite('11 - RECTANGLES.jpg', image)"
   ]
  },
  {
   "cell_type": "code",
   "execution_count": 61,
   "metadata": {},
   "outputs": [
    {
     "name": "stdout",
     "output_type": "stream",
     "text": [
      "areas: 21\n"
     ]
    },
    {
     "data": {
      "text/plain": [
       "True"
      ]
     },
     "execution_count": 61,
     "metadata": {},
     "output_type": "execute_result"
    }
   ],
   "source": [
    "areas = []\n",
    "for contour in rectangles:\n",
    "    area = cv.contourArea(contour)\n",
    "    if area > 1000:\n",
    "        areas.append(area)\n",
    "\n",
    "areas = np.array(areas)\n",
    "print('areas:', len(areas))\n",
    "\n",
    "# Calculate the first quartile (Q1) and the third quartile (Q3)\n",
    "Q1 = np.percentile(areas, 40)\n",
    "Q3 = np.percentile(areas, 60)\n",
    "\n",
    "# Compute the Interquartile Range (IQR)\n",
    "IQR = Q3 - Q1\n",
    "\n",
    "# Define the lower and upper bounds\n",
    "lower_bound = Q1 - 7 * IQR\n",
    "upper_bound = Q3 + 7 * IQR\n",
    "\n",
    "filtered_rectangles = []\n",
    "image = warped.copy()\n",
    "for contour in rectangles:\n",
    "    area = cv.contourArea(contour)\n",
    "    if area > lower_bound and area < upper_bound:\n",
    "        filtered_rectangles.append(contour)\n",
    "        cv.drawContours(image, [contour], 0, (0, 255, 0), 2)\n",
    "\n",
    "cv.imwrite('12 - FILTERED RECTANGLES.jpg', image)"
   ]
  },
  {
   "cell_type": "code",
   "execution_count": 62,
   "metadata": {},
   "outputs": [],
   "source": [
    "filtered_rectangles = np.array(filtered_rectangles)\n",
    "filtered = filtered_rectangles[::-1]\n",
    "filtered = filtered.reshape(-1, 4,4, 2)\n",
    "\n",
    "filtered_rectangles = filtered"
   ]
  },
  {
   "cell_type": "code",
   "execution_count": 63,
   "metadata": {},
   "outputs": [],
   "source": [
    "target_size = (600, 300)\n",
    "\n",
    "for row in range(len(filtered_rectangles)):\n",
    "    new_dir = f'{output_dir}\\\\{row}\\\\' \n",
    "    os.makedirs(new_dir, exist_ok=True)\n",
    "    for i , contour in enumerate(filtered_rectangles[row]):\n",
    "        x, y, w, h = cv.boundingRect(contour)\n",
    "        crop_amount = 15 \n",
    "        # Crop the image to the bounding rectangle\n",
    "        cropped_image = no_lines[y+crop_amount:y+h-crop_amount, x+crop_amount:x+w-crop_amount]\n",
    "        \n",
    "        cropped_image = cv.resize(cropped_image, target_size)\n",
    "\n",
    "        # Save the cropped image to the file system\n",
    "        filename = os.path.join(new_dir, f'image_{i}.jpg')\n",
    "        cv.imwrite(filename, cropped_image)"
   ]
  },
  {
   "cell_type": "code",
   "execution_count": 64,
   "metadata": {},
   "outputs": [
    {
     "name": "stdout",
     "output_type": "stream",
     "text": [
      "0 20240904_083201.jpg\n",
      "1 20240904_083217.jpg\n",
      "2 20240904_083233.jpg\n",
      "3 20240904_083248.jpg\n",
      "4 20240904_083305.jpg\n",
      "5 20240904_083320.jpg\n",
      "6 20240904_083334.jpg\n",
      "7 20240904_083350.jpg\n",
      "8 20240904_083411.jpg\n",
      "9 20240904_083435.jpg\n",
      "10 20240904_091404.jpg\n"
     ]
    }
   ],
   "source": [
    "dir = os.listdir(data_dir)\n",
    "for i, d in enumerate(dir):\n",
    "    print(i, d)\n",
    "    if i == 10:\n",
    "        break"
   ]
  },
  {
   "cell_type": "markdown",
   "metadata": {},
   "source": [
    "dividing the images into test and train"
   ]
  },
  {
   "cell_type": "code",
   "execution_count": 65,
   "metadata": {},
   "outputs": [
    {
     "name": "stdout",
     "output_type": "stream",
     "text": [
      "Data split into train and test sets successfully.\n"
     ]
    }
   ],
   "source": [
    "# Iterate through each numbered folder in the processed directory\n",
    "for folder_name in os.listdir(output_dir):\n",
    "    folder_path = os.path.join(output_dir, folder_name)\n",
    "    if os.path.isdir(folder_path) and folder_name.isdigit():\n",
    "        images = [f for f in os.listdir(folder_path) if f.endswith('.jpg')]\n",
    "        \n",
    "        # Ensure there are exactly 4 images in the folder\n",
    "        if len(images) == 4:\n",
    "            random.shuffle(images)\n",
    "\n",
    "            test_image = images[0]\n",
    "            train_images = images[1:]\n",
    "            \n",
    "            # Create respective folders in the test and train directories\n",
    "            test_folder = os.path.join(test_dir, folder_name)\n",
    "            train_folder = os.path.join(train_dir, folder_name)\n",
    "            os.makedirs(test_folder, exist_ok=True)\n",
    "            os.makedirs(train_folder, exist_ok=True)\n",
    "            \n",
    "            # Move the test image\n",
    "            test_image_src = os.path.join(folder_path, test_image)\n",
    "            test_image_dst = os.path.join(test_folder, test_image)\n",
    "            shutil.copy(test_image_src, test_image_dst)\n",
    "            \n",
    "            # Move the train images\n",
    "            for train_image in train_images:\n",
    "                train_image_src = os.path.join(folder_path, train_image)\n",
    "                train_image_dst = os.path.join(train_folder, train_image)\n",
    "                shutil.copy(train_image_src, train_image_dst)\n",
    "        else:\n",
    "            print(f\"Folder {folder_name} does not contain exactly 4 images.\")\n",
    "\n",
    "print(\"Data split into train and test sets successfully.\")"
   ]
  },
  {
   "cell_type": "code",
   "execution_count": 66,
   "metadata": {},
   "outputs": [],
   "source": [
    "#remove the numbered folders \n",
    "for folder_name in os.listdir(output_dir):\n",
    "    folder_path = os.path.join(output_dir, folder_name)\n",
    "    if os.path.isdir(folder_path) and folder_name.isdigit():\n",
    "        shutil.rmtree(folder_path)"
   ]
  }
 ],
 "metadata": {
  "kernelspec": {
   "display_name": ".venv",
   "language": "python",
   "name": "python3"
  },
  "language_info": {
   "codemirror_mode": {
    "name": "ipython",
    "version": 3
   },
   "file_extension": ".py",
   "mimetype": "text/x-python",
   "name": "python",
   "nbconvert_exporter": "python",
   "pygments_lexer": "ipython3",
   "version": "3.11.9"
  }
 },
 "nbformat": 4,
 "nbformat_minor": 2
}
